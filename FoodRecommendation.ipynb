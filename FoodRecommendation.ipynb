{
 "cells": [
  {
   "cell_type": "code",
   "execution_count": 16,
   "id": "d60c2d02-7d1d-4305-aa1d-9a8ac6d80688",
   "metadata": {},
   "outputs": [
    {
     "name": "stderr",
     "output_type": "stream",
     "text": [
      "C:\\Users\\ADMIN\\anaconda3\\Lib\\site-packages\\sklearn\\cluster\\_kmeans.py:1412: FutureWarning: The default value of `n_init` will change from 10 to 'auto' in 1.4. Set the value of `n_init` explicitly to suppress the warning\n",
      "  super()._check_params_vs_input(X, default_n_init=10)\n"
     ]
    },
    {
     "name": "stdin",
     "output_type": "stream",
     "text": [
      "Enter the name of the food item:  Lemons\n"
     ]
    },
    {
     "name": "stdout",
     "output_type": "stream",
     "text": [
      "Recommended Food Items similar to 'Lemons':\n",
      "- Lamb - Leg, Boneless: Protein: 13.2%, Carbohydrate: 33.5%, Fat: 39.7%\n",
      "- Hot Chocolate - Individual: Protein: 47.1%, Carbohydrate: 12.0%, Fat: 45.5%\n",
      "- Rice - Sushi: Protein: 44.8%, Carbohydrate: 2.5%, Fat: 35.4%\n",
      "- Versatainer Nc - 888: Protein: 29.2%, Carbohydrate: 27.6%, Fat: 39.2%\n",
      "- Wine - Fontanafredda Barolo: Protein: 42.6%, Carbohydrate: 41.6%, Fat: 45.5%\n",
      "- Duck - Fat: Protein: 9.0%, Carbohydrate: 28.4%, Fat: 41.9%\n",
      "- Mace Ground: Protein: 37.1%, Carbohydrate: 11.4%, Fat: 34.4%\n",
      "- Mix - Cocktail Ice Cream: Protein: 38.2%, Carbohydrate: 15.2%, Fat: 31.3%\n",
      "- Wine - Jafflin Bourgongone: Protein: 13.2%, Carbohydrate: 21.3%, Fat: 44.2%\n",
      "- Aspic - Light: Protein: 27.4%, Carbohydrate: 31.2%, Fat: 35.7%\n",
      "- Sesame Seed: Protein: 22.3%, Carbohydrate: 30.4%, Fat: 43.6%\n",
      "- Coffee - Decafenated: Protein: 48.7%, Carbohydrate: 30.6%, Fat: 39.8%\n",
      "- Pancetta: Protein: 27.9%, Carbohydrate: 30.9%, Fat: 42.4%\n",
      "- Nacho Chips: Protein: 36.4%, Carbohydrate: 31.0%, Fat: 46.9%\n",
      "- Wine - Balbach Riverside: Protein: 0.9%, Carbohydrate: 14.1%, Fat: 44.6%\n",
      "- Sping Loaded Cup Dispenser: Protein: 48.6%, Carbohydrate: 32.6%, Fat: 23.1%\n",
      "- Bacardi Breezer - Strawberry: Protein: 34.9%, Carbohydrate: 20.5%, Fat: 37.6%\n",
      "- Onions - Vidalia: Protein: 43.9%, Carbohydrate: 40.2%, Fat: 37.9%\n",
      "- Ecolab Crystal Fusion: Protein: 22.9%, Carbohydrate: 10.5%, Fat: 35.6%\n",
      "- Pepper - Cubanelle: Protein: 44.3%, Carbohydrate: 31.9%, Fat: 31.4%\n",
      "[('Lamb - Leg, Boneless', 13.2, 33.5, 39.7), ('Hot Chocolate - Individual', 47.1, 12.0, 45.5), ('Rice - Sushi', 44.8, 2.5, 35.4), ('Versatainer Nc - 888', 29.2, 27.6, 39.2), ('Wine - Fontanafredda Barolo', 42.6, 41.6, 45.5), ('Duck - Fat', 9.0, 28.4, 41.9), ('Mace Ground', 37.1, 11.4, 34.4), ('Mix - Cocktail Ice Cream', 38.2, 15.2, 31.3), ('Wine - Jafflin Bourgongone', 13.2, 21.3, 44.2), ('Aspic - Light', 27.4, 31.2, 35.7), ('Sesame Seed', 22.3, 30.4, 43.6), ('Coffee - Decafenated', 48.7, 30.6, 39.8), ('Pancetta', 27.9, 30.9, 42.4), ('Nacho Chips', 36.4, 31.0, 46.9), ('Wine - Balbach Riverside', 0.9, 14.1, 44.6), ('Sping Loaded Cup Dispenser', 48.6, 32.6, 23.1), ('Bacardi Breezer - Strawberry', 34.9, 20.5, 37.6), ('Onions - Vidalia', 43.9, 40.2, 37.9), ('Ecolab Crystal Fusion', 22.9, 10.5, 35.6), ('Pepper - Cubanelle', 44.3, 31.9, 31.4)]\n"
     ]
    }
   ],
   "source": [
    "from sklearn.cluster import KMeans\n",
    "import numpy as np\n",
    "import pandas as pd\n",
    "data = pd.read_csv('FinalDataset.csv')\n",
    "food_items = []\n",
    "class Food:\n",
    "   def __init__(self, name, protein=0.0, carbohydrate=0.0, fat=0.0):\n",
    "    self.name = name\n",
    "    self.protein = protein\n",
    "    self.carbohydrate = carbohydrate\n",
    "    self.fat = fat\n",
    "for index, row in data.iterrows():\n",
    "    food_item = Food(row['Item Name'], row['Proteins'], row['Carbohydrates'], row['Fats'])\n",
    "    food_items.append(food_item)\n",
    "X = np.array([[food.protein, food.carbohydrate, food.fat] for food in food_items])\n",
    "kmeans = KMeans(n_clusters=3, random_state=42)\n",
    "kmeans.fit(X)\n",
    "def recommend_similar_foods(query_food_name, top_n=3):\n",
    "    queried_food = None\n",
    "    for food in food_items:\n",
    "        if query_food_name.lower() == food.name.lower():\n",
    "            queried_food = food\n",
    "            break\n",
    "    \n",
    "    if queried_food is None:\n",
    "        return \"Food item not found in the database.\"\n",
    "\n",
    "    # Predict cluster for the queried food item\n",
    "    query_cluster = kmeans.predict([[queried_food.protein, queried_food.carbohydrate, queried_food.fat]])[0]\n",
    "\n",
    "    # Get food items from the same cluster as the queried food item\n",
    "    cluster_indices = np.where(kmeans.labels_ == query_cluster)[0]\n",
    "    similar_items = [(food_items[i].name, \n",
    "                      food_items[i].protein, food_items[i].carbohydrate, food_items[i].fat) \n",
    "                     for i in cluster_indices if food_items[i].name.lower() != queried_food.name.lower()]\n",
    "\n",
    "    # If there are more similar items than required, randomly select top_n items\n",
    "    if len(similar_items) > top_n:\n",
    "        selected_indices = np.random.choice(len(similar_items), top_n, replace=False)\n",
    "        similar_items = [similar_items[i] for i in selected_indices]\n",
    "    return similar_items\n",
    "query_food = input(\"Enter the name of the food item: \")\n",
    "recommended_items = recommend_similar_foods(query_food)\n",
    "print(f\"Recommended Food Items similar to '{query_food}':\")\n",
    "for item in recommended_items:\n",
    "    name, protein, carbohydrate, fat = item\n",
    "    print(f\"- {name}: Protein: {protein}%, Carbohydrate: {carbohydrate}%, Fat: {fat}%\")\n",
    "print(recommended_items)"
   ]
  },
  {
   "cell_type": "code",
   "execution_count": null,
   "id": "0df1509f-6de0-4795-939b-e94bb2365474",
   "metadata": {},
   "outputs": [],
   "source": [
    "    "
   ]
  }
 ],
 "metadata": {
  "kernelspec": {
   "display_name": "Python 3",
   "language": "python",
   "name": "python3"
  },
  "language_info": {
   "codemirror_mode": {
    "name": "ipython",
    "version": 3
   },
   "file_extension": ".py",
   "mimetype": "text/x-python",
   "name": "python",
   "nbconvert_exporter": "python",
   "pygments_lexer": "ipython3",
   "version": "3.11.5"
  }
 },
 "nbformat": 4,
 "nbformat_minor": 5
}
